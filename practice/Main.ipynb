{
 "cells": [
  {
   "cell_type": "code",
   "execution_count": 1,
   "id": "08375759",
   "metadata": {},
   "outputs": [
    {
     "name": "stdout",
     "output_type": "stream",
     "text": [
      "4000\n"
     ]
    }
   ],
   "source": [
    "A = 2000\n",
    "B = 2000\n",
    "print(A+B)"
   ]
  },
  {
   "cell_type": "markdown",
   "id": "2c3ddac2",
   "metadata": {},
   "source": [
    "### Introduction of python"
   ]
  },
  {
   "cell_type": "markdown",
   "id": "b86932c3",
   "metadata": {},
   "source": []
  }
 ],
 "metadata": {
  "kernelspec": {
   "display_name": "base",
   "language": "python",
   "name": "python3"
  },
  "language_info": {
   "codemirror_mode": {
    "name": "ipython",
    "version": 3
   },
   "file_extension": ".py",
   "mimetype": "text/x-python",
   "name": "python",
   "nbconvert_exporter": "python",
   "pygments_lexer": "ipython3",
   "version": "3.12.7"
  }
 },
 "nbformat": 4,
 "nbformat_minor": 5
}
